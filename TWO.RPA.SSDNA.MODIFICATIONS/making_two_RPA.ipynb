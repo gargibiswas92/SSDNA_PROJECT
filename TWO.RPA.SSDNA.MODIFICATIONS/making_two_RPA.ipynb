{
 "cells": [
  {
   "cell_type": "code",
   "execution_count": 1,
   "metadata": {},
   "outputs": [
    {
     "name": "stdout",
     "output_type": "stream",
     "text": [
      "-68.9 86.543 118.411\n",
      "-94.461 27.766 128.876\n",
      "25.560999999999993 58.77700000000001 -10.465000000000003\n"
     ]
    }
   ],
   "source": [
    "import linecache\n",
    "import math\n",
    "def get_coord(file, num):\n",
    "    line = linecache.getline(file, num)\n",
    "    x = float(line[26:38])\n",
    "    y = float(line[38:46])\n",
    "    z = float(line[46:54])\n",
    "    return x, y, z\n",
    "\n",
    "def distance(x1, y1, z1, x2, y2, z2):\n",
    "    dx = (x2 - x1)\n",
    "    dy = (y2 - y1)\n",
    "    dz = (z2 - z1)\n",
    "    return dx, dy, dz\n",
    "    \n",
    "def translate_PDB(filename, tr_x, tr_y, tr_z, outfile):\n",
    "    inp = open(filename, 'r')\n",
    "    out = open(outfile, 'w')\n",
    "    for line in inp:\n",
    "        if line.startswith('ATOM'):\n",
    "            init = line[0:26]\n",
    "            x = float(line[26:38])\n",
    "            y = float(line[38:46])\n",
    "            z = float(line[46:54])\n",
    "            end = line[54:-1]\n",
    "            n_x = x + tr_x\n",
    "            n_y = y + tr_y\n",
    "            n_z = z + tr_z\n",
    "            ss = '{}{:>12.3f}{:>8.3f}{:>8.3f}{}{}'.format(init, n_x, n_y, n_z, end, \"\\n\")\n",
    "            out.writelines(ss)\n",
    "        else:\n",
    "            out.writelines(line)\n",
    "\n",
    "x1, y1, z1 = get_coord('repA_dna26.pdb', 5444)\n",
    "print(x1, y1, z1)\n",
    "x2, y2, z2 = get_coord('repA_dna25.pdb', 5924)\n",
    "print(x2,y2,z2)\n",
    "\n",
    "dx, dy, dz = distance(x2, y2, z2, x1, y1, z1)\n",
    "print(dx, dy, dz)\n",
    "translate_PDB('repA_dna25.pdb', dx, dy, dz, 'translated_25_test.pdb')"
   ]
  },
  {
   "cell_type": "code",
   "execution_count": 2,
   "metadata": {},
   "outputs": [
    {
     "name": "stdout",
     "output_type": "stream",
     "text": [
      "5943\n",
      "5924\n"
     ]
    }
   ],
   "source": [
    "def separate_DNA_Prot(filename, prot_file, DNA_file):\n",
    "    prot = open(prot_file, 'w')\n",
    "    dna = open(DNA_file, 'w')\n",
    "    num_lines = sum(1 for _ in open(filename))\n",
    "    print(num_lines)\n",
    "    for i in range(1, 5426):\n",
    "        line = linecache.getline(filename, i)\n",
    "        prot.writelines(line)\n",
    "    for j in range(5426, num_lines+1):\n",
    "        line = linecache.getline(filename, j)\n",
    "        dna.writelines(line)   \n",
    "separate_DNA_Prot('repA_dna26.pdb', 'repA1.pdb', 'dna26.pdb')\n",
    "separate_DNA_Prot('translated_25_test.pdb', 'repA2.pdb', 'dna25.pdb')"
   ]
  },
  {
   "cell_type": "code",
   "execution_count": 3,
   "metadata": {},
   "outputs": [
    {
     "name": "stdout",
     "output_type": "stream",
     "text": [
      "480 518\n"
     ]
    }
   ],
   "source": [
    "def combine_DNA(file1, file2, outfl):\n",
    "    num1 = sum(1 for _ in open(file1))\n",
    "    num2 = sum(1 for _ in open(file2))\n",
    "    print(num1, num2)\n",
    "    out = open(outfl, 'w')\n",
    "    for i in range(1, num1+1):\n",
    "        line = linecache.getline(file1, i)\n",
    "        if line.startswith('ATOM'):\n",
    "            out.writelines(line)\n",
    "        else:\n",
    "            print(line)\n",
    "    atnum1 = int(linecache.getline(file1, num1-1)[4:11])\n",
    "    resnum1 = int(linecache.getline(file1, num1-1)[22:26])\n",
    "    for j in range(1, num2+1):\n",
    "        line = linecache.getline(file2, j)\n",
    "        if line.startswith('ATOM'):\n",
    "            start = line[0:4]\n",
    "            at = int(line[4:11])\n",
    "            mid = line[11:22]\n",
    "            res = int(line[22:26])\n",
    "            end = line[26:-1]\n",
    "            n_at = atnum1+j\n",
    "            n_res = res + resnum1\n",
    "            ss = '{}{:>7d}{}{:>4d}{}{}'.format(start, n_at, mid, n_res, end, '\\n')\n",
    "            out.writelines(ss)\n",
    "        else:\n",
    "            print(ss)\n",
    "                   \n",
    "combine_DNA('dna25.pdb', 'dna26.pdb', 'combined_dna.pdb')      "
   ]
  },
  {
   "cell_type": "code",
   "execution_count": 4,
   "metadata": {},
   "outputs": [],
   "source": [
    "def combine_protein(file1, file2, outfl):\n",
    "    num1 = sum(1 for _ in open(file1))\n",
    "    num2 = sum(1 for _ in open(file2))\n",
    "    out = open(outfl, 'w')\n",
    "    for i in range(1, num1+1):\n",
    "        line = linecache.getline(file1, i)\n",
    "        out.writelines(line)\n",
    "    atnum1 = int(linecache.getline(file1, num1)[4:11])\n",
    "    for j in range(1, num2+1):\n",
    "        line = linecache.getline(file2, j)\n",
    "        if line.startswith(('ATOM')):\n",
    "            start = line[0:4]\n",
    "            at = int(line[4:11])\n",
    "            mid = line[11:20]\n",
    "            chain = line[20:22]\n",
    "            end = line[22:-1]\n",
    "            n_at = atnum1+j\n",
    "            if chain==' A':\n",
    "                n_ch = ' D'\n",
    "            if chain==' B':\n",
    "                n_ch = ' E'\n",
    "            if chain==' C':\n",
    "                n_ch = ' F'\n",
    "            ss = '{}{:>7d}{}{:>2s}{}{}'.format(start, n_at, mid, n_ch, end, '\\n')\n",
    "            out.writelines(ss)\n",
    "        if line.startswith(('TER')):\n",
    "            start = line[0:4]\n",
    "            at = int(line[4:11])\n",
    "            mid = line[11:20]\n",
    "            chain = line[20:22]\n",
    "            end = line[22:-1]\n",
    "            n_at = atnum1+j\n",
    "            if chain==' A':\n",
    "                n_ch = ' D'\n",
    "            if chain==' B':\n",
    "                n_ch = ' E'\n",
    "            if chain==' C':\n",
    "                n_ch = ' F'\n",
    "            ss = '{}{:>7d}{}{:>2s}{}{}'.format(start, n_at, mid, n_ch, end, '\\n')\n",
    "            out.writelines(ss)\n",
    "combine_protein('repA1.pdb', 'repA2.pdb', 'two_RPA.pdb') "
   ]
  },
  {
   "cell_type": "code",
   "execution_count": 5,
   "metadata": {},
   "outputs": [],
   "source": [
    "def combine_protein_DNA(file1, file2, outfl):\n",
    "    num1 = sum(1 for _ in open(file1))\n",
    "    num2 = sum(1 for _ in open(file2))\n",
    "    out = open(outfl, 'w')\n",
    "    for i in range(1, num1+1):\n",
    "        line = linecache.getline(file1, i)\n",
    "        out.writelines(line)\n",
    "    atnum1 = int(linecache.getline(file1, num1)[4:11])\n",
    "\n",
    "    for j in range(1, num2+1):\n",
    "        line = linecache.getline(file2, j)\n",
    "        if line.startswith(('ATOM')):\n",
    "            start = line[0:4]\n",
    "            at = int(line[4:11])\n",
    "            mid = line[11:20]\n",
    "            chain = line[20:22]\n",
    "            end = line[22:-1]\n",
    "            n_at = atnum1+j\n",
    "            if chain==' D':\n",
    "                n_ch = ' G'\n",
    "            ss = '{}{:>7d}{}{:>2s}{}{}'.format(start, n_at, mid, n_ch, end, '\\n')\n",
    "            out.writelines(ss)\n",
    "        else:\n",
    "            out.writelines(line)\n",
    "combine_protein_DNA('two_RPA.pdb', 'combined_dna.pdb', 'RPA_DNA.pdb') "
   ]
  },
  {
   "cell_type": "code",
   "execution_count": 150,
   "metadata": {},
   "outputs": [
    {
     "name": "stdout",
     "output_type": "stream",
     "text": [
      "4179425\n",
      "4182332\n",
      "['1392', '1509', '1605', '1771', '1797', '1809', '1813', '1882', '1962', '2273', '2295', '2443', '2547', '2577']\n"
     ]
    }
   ],
   "source": [
    "filename= 'RPA_DNA.dat'\n",
    "string1 = '7 chains.'\n",
    "init_line = next((i+1 for i, line in enumerate(open(filename)) if string1 in line), None)\n",
    "print(init_line)\n",
    "end_line = sum(1 for _ in open(filename))\n",
    "print(end_line)\n",
    "\n",
    "trp_list = []\n",
    "tyr_list = []\n",
    "count = 0\n",
    "for i in range(init_line+8, end_line):\n",
    "    line = linecache.getline(filename, i)\n",
    "    res = line[12:16].strip()\n",
    "    res_num = line[0:5].strip()\n",
    "    type = line[9:12].strip()\n",
    "    if res=='HIS' and type=='CB':\n",
    "        trp_list.append(res_num)\n",
    "    if res==' TYR':\n",
    "        tyr_list.append(res_num)\n",
    "print(trp_list)  \n"
   ]
  }
 ],
 "metadata": {
  "kernelspec": {
   "display_name": "Python 3",
   "language": "python",
   "name": "python3"
  },
  "language_info": {
   "codemirror_mode": {
    "name": "ipython",
    "version": 3
   },
   "file_extension": ".py",
   "mimetype": "text/x-python",
   "name": "python",
   "nbconvert_exporter": "python",
   "pygments_lexer": "ipython3",
   "version": "3.9.14 (main, Nov  7 2022, 00:00:00) \n[GCC 11.3.1 20220421 (Red Hat 11.3.1-2)]"
  },
  "orig_nbformat": 4,
  "vscode": {
   "interpreter": {
    "hash": "e7370f93d1d0cde622a1f8e1c04877d8463912d04d973331ad4851f04de6915a"
   }
  }
 },
 "nbformat": 4,
 "nbformat_minor": 2
}
