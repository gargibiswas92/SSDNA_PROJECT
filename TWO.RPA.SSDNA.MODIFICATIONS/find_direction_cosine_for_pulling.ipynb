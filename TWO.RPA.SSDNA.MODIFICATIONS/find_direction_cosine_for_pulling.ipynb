{
 "cells": [
  {
   "cell_type": "code",
   "execution_count": 12,
   "metadata": {},
   "outputs": [],
   "source": [
    "import linecache \n",
    "import numpy as np\n",
    "\n",
    "def read_PDB(pdb_file):\n",
    "    end_pdb = sum(1 for _ in open(pdb_file))\n",
    "    x_arr, y_arr, z_arr = [], [], []\n",
    "    for i in range(2, end_pdb+1):\n",
    "        line = linecache.getline(pdb_file, i)\n",
    "        x, y, z = float(line[26:38]), float(line[38:46]), float(line[46:54])\n",
    "        x_arr.append(x)\n",
    "        y_arr.append(y)\n",
    "        z_arr.append(z)\n",
    "    x_npr, y_npr, z_npr = np.array(x_arr), np.array(y_arr), np.array(z_arr)\n",
    "    return x_npr, y_npr, z_npr\n",
    "\n",
    "def direction_cosines(x1, y1, z1, x2, y2, z2):\n",
    "    d = np.sqrt((x2 - x1)**2 + (y2 - y1)**2 + (z2 - z1)**2)\n",
    "    l = (x2 - x1) / d\n",
    "    m = (y2 - y1) / d\n",
    "    n = (z2 - z1) / d\n",
    "    \n",
    "    return l, m, n"
   ]
  },
  {
   "cell_type": "code",
   "execution_count": 13,
   "metadata": {},
   "outputs": [
    {
     "data": {
      "text/plain": [
       "(0.1681244208589901, -0.9210720058495524, -0.35122719022181503)"
      ]
     },
     "execution_count": 13,
     "metadata": {},
     "output_type": "execute_result"
    }
   ],
   "source": [
    "folder = '/home_b/gargi/project_RPA_edwin/TWO.RPA.MAKING/DAT.FILES/INIT.STR.CHANGE/'\n",
    "filename = folder+'add_test_face_100_ch_rep_1.6_dih_0.0_stacks_A.dat.pdb'\n",
    "\n",
    "x, y, z = read_PDB(filename)\n",
    "\n",
    "x1, y1, z1 =x[2679], y[2679], z[2679]\n",
    "x2, y2, z2 =x[2976], y[2976], z[2976]\n",
    "\n",
    "direction_cosines(x1, y1, z1, x2, y2, z2)"
   ]
  },
  {
   "cell_type": "code",
   "execution_count": 14,
   "metadata": {},
   "outputs": [
    {
     "data": {
      "text/plain": [
       "(-0.04180923848830629, -0.989950663790119, -0.13509134257431493)"
      ]
     },
     "execution_count": 14,
     "metadata": {},
     "output_type": "execute_result"
    }
   ],
   "source": [
    "folder = '/home_b/gargi/project_RPA_edwin/TWO.RPA.MAKING/DAT.FILES/INIT.STR.CHANGE/'\n",
    "filename = folder+'add_test_face_80_ch_rep_1.6_dih_0.4_stacks_A.dat.pdb'\n",
    "\n",
    "x, y, z = read_PDB(filename)\n",
    "\n",
    "x1, y1, z1 =x[2679], y[2679], z[2679]\n",
    "x2, y2, z2 =x[2916], y[2916], z[2916]\n",
    "\n",
    "direction_cosines(x1, y1, z1, x2, y2, z2)"
   ]
  }
 ],
 "metadata": {
  "kernelspec": {
   "display_name": "Python 3",
   "language": "python",
   "name": "python3"
  },
  "language_info": {
   "codemirror_mode": {
    "name": "ipython",
    "version": 3
   },
   "file_extension": ".py",
   "mimetype": "text/x-python",
   "name": "python",
   "nbconvert_exporter": "python",
   "pygments_lexer": "ipython3",
   "version": "3.9.14 (main, Nov  7 2022, 00:00:00) \n[GCC 11.3.1 20220421 (Red Hat 11.3.1-2)]"
  },
  "orig_nbformat": 4,
  "vscode": {
   "interpreter": {
    "hash": "e7370f93d1d0cde622a1f8e1c04877d8463912d04d973331ad4851f04de6915a"
   }
  }
 },
 "nbformat": 4,
 "nbformat_minor": 2
}
