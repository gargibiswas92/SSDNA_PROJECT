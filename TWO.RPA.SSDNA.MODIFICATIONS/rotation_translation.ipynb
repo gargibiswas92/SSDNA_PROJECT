{
 "cells": [
  {
   "cell_type": "code",
   "execution_count": 15,
   "metadata": {},
   "outputs": [],
   "source": [
    "import linecache\n",
    "import math\n",
    "import numpy as np\n",
    "def get_coord(file, num):\n",
    "    line = linecache.getline(file, num)\n",
    "    x = float(line[26:38])\n",
    "    y = float(line[38:46])\n",
    "    z = float(line[46:54])\n",
    "    return x, y, z\n",
    "\n",
    "def direction_cosines(x1, y1, z1, x2, y2, z2):\n",
    "    d = np.sqrt((x2 - x1)**2 + (y2 - y1)**2 + (z2 - z1)**2)\n",
    "    l = (x2 - x1) / d\n",
    "    m = (y2 - y1) / d\n",
    "    n = (z2 - z1) / d\n",
    "    \n",
    "    return l, m, n\n",
    "\n",
    "def rotate_point_180(x, y, z, l, m, n):\n",
    "    rotation_matrix = np.array([\n",
    "        [2*l**2-1, 2*l*m, 2*l*n],\n",
    "        [2*l*m, 2*m**2-1, 2*m*n],\n",
    "        [2*l*n, 2*m*n, 2*n**2-1]\n",
    "    ])\n",
    "    point = np.array([[x], [y], [z]])\n",
    "    rotated_point = np.dot(rotation_matrix, point)\n",
    "    rotated_x, rotated_y, rotated_z = rotated_point.flatten()\n",
    "    return rotated_x, rotated_y, rotated_z\n",
    "\n",
    "\n",
    "def rotate_PDB(filename, l, m, n, outfile):\n",
    "    inp = open(filename, 'r')\n",
    "    out = open(outfile, 'w')\n",
    "    for line in inp:\n",
    "        if line.startswith('ATOM'):\n",
    "            init = line[0:26]\n",
    "            x = float(line[26:38])\n",
    "            y = float(line[38:46])\n",
    "            z = float(line[46:54])\n",
    "            end = line[54:-1]\n",
    "            (r_x, r_y, r_z) = rotate_point_180(x, y, z, l, m, n)\n",
    "            ss = '{}{:>12.3f}{:>8.3f}{:>8.3f}{}{}'.format(init, r_x, r_y, r_z, end, \"\\n\")\n",
    "            out.writelines(ss)\n",
    "        else:\n",
    "            out.writelines(line)\n",
    "\n",
    "x1, y1, z1 = get_coord('repA_dna30A.pdb', 5417)\n",
    "x2, y2, z2 = get_coord('repA_dna30A.pdb', 4157)\n",
    "\n",
    "l, m, n = direction_cosines(x1, y1, z1, x2, y2, z2)\n",
    "rotate_PDB('repA_dna30A.pdb', l, m, n, 'rotated_repA_30A.pdb')\n"
   ]
  },
  {
   "cell_type": "code",
   "execution_count": 18,
   "metadata": {},
   "outputs": [
    {
     "name": "stdout",
     "output_type": "stream",
     "text": [
      "-76.661 95.901 122.866\n",
      "-72.621 -87.821 -131.086\n",
      "-4.040000000000006 183.72199999999998 253.952\n"
     ]
    }
   ],
   "source": [
    "import linecache\n",
    "import math\n",
    "def get_coord(file, num):\n",
    "    line = linecache.getline(file, num)\n",
    "    x = float(line[26:38])\n",
    "    y = float(line[38:46])\n",
    "    z = float(line[46:54])\n",
    "    return x, y, z\n",
    "\n",
    "def distance(x1, y1, z1, x2, y2, z2):\n",
    "    dx = (x2 - x1)\n",
    "    dy = (y2 - y1)\n",
    "    dz = (z2 - z1)\n",
    "    return dx, dy, dz\n",
    "    \n",
    "def translate_PDB(filename, tr_x, tr_y, tr_z, outfile):\n",
    "    inp = open(filename, 'r')\n",
    "    out = open(outfile, 'w')\n",
    "    for line in inp:\n",
    "        if line.startswith('ATOM'):\n",
    "            init = line[0:26]\n",
    "            x = float(line[26:38])\n",
    "            y = float(line[38:46])\n",
    "            z = float(line[46:54])\n",
    "            end = line[54:-1]\n",
    "            n_x = x + tr_x\n",
    "            n_y = y + tr_y\n",
    "            n_z = z + tr_z\n",
    "            ss = '{}{:>12.3f}{:>8.3f}{:>8.3f}{}{}'.format(init, n_x, n_y, n_z, end, \"\\n\")\n",
    "            out.writelines(ss)\n",
    "        else:\n",
    "            out.writelines(line)\n",
    "\n",
    "x1, y1, z1 = get_coord('repA_dna30A.pdb', 5444)\n",
    "print(x1, y1, z1)\n",
    "#x2, y2, z2 = get_coord('rotated_repA_30A.pdb', 5444)\n",
    "x2, y2, z2 = get_coord('rotated_repA_30A.pdb', 5444)\n",
    "print(x2,y2,z2)\n",
    "\n",
    "dx, dy, dz = distance(x2, y2, z2, x1, y1, z1)\n",
    "print(dx, dy, dz)\n",
    "translate_PDB('rotated_repA_30A.pdb', dx+0.1, dy+0.1, dz+0.1, 'translated_30_testA.pdb')"
   ]
  },
  {
   "cell_type": "code",
   "execution_count": 19,
   "metadata": {},
   "outputs": [
    {
     "name": "stdout",
     "output_type": "stream",
     "text": [
      "6001\n",
      "5982\n"
     ]
    }
   ],
   "source": [
    "def separate_DNA_Prot(filename, prot_file, DNA_file):\n",
    "    prot = open(prot_file, 'w')\n",
    "    dna = open(DNA_file, 'w')\n",
    "    num_lines = sum(1 for _ in open(filename))\n",
    "    print(num_lines)\n",
    "    for i in range(1, 5426):\n",
    "        line = linecache.getline(filename, i)\n",
    "        prot.writelines(line)\n",
    "    for j in range(5426, num_lines+1):\n",
    "        line = linecache.getline(filename, j)\n",
    "        dna.writelines(line)   \n",
    "separate_DNA_Prot('repA_dna30A.pdb', 'repA1.pdb', 'dna30A.pdb')\n",
    "separate_DNA_Prot('translated_30_testA.pdb', 'repA2.pdb', 'dna30A_t.pdb')"
   ]
  },
  {
   "cell_type": "code",
   "execution_count": 25,
   "metadata": {},
   "outputs": [],
   "source": [
    "def renumber_DNA(file, outfl):\n",
    "    num = sum(1 for _ in open(file))\n",
    "    res_max = int(linecache.getline(file, num-1)[22:26])\n",
    "    count = 1\n",
    "    out = open(outfl, 'w')\n",
    "    for i in range(num, 0, -1):\n",
    "        line = linecache.getline(file, i)\n",
    "        if line.startswith('ATOM'):\n",
    "            start = line[0:4]\n",
    "            at = int(line[4:11])\n",
    "            mid = line[11:22]\n",
    "            res = int(line[22:26])\n",
    "            end = line[26:-1]\n",
    "            new_res = res_max + 1 -res\n",
    "            new_at = count\n",
    "            ss = '{}{:>7d}{}{:>4d}{}{}'.format(start, new_at, mid, new_res, end, '\\n')\n",
    "            out.writelines(ss)\n",
    "            count = count + 1\n",
    "        else:\n",
    "            print(line)\n",
    "renumber_DNA('dna30A_t.pdb', 'dna30A_t_re.pdb')"
   ]
  },
  {
   "cell_type": "code",
   "execution_count": 31,
   "metadata": {},
   "outputs": [
    {
     "name": "stdout",
     "output_type": "stream",
     "text": [
      "557 576\n"
     ]
    }
   ],
   "source": [
    "def combine_DNA(file1, file2, outfl):\n",
    "    num1 = sum(1 for _ in open(file1))\n",
    "    num2 = sum(1 for _ in open(file2))\n",
    "    print(num1, num2)\n",
    "    out = open(outfl, 'w')\n",
    "    for i in range(1, num1+1):\n",
    "        line = linecache.getline(file1, i)\n",
    "        if line.startswith('ATOM'):\n",
    "            out.writelines(line)\n",
    "        else:\n",
    "            print(line)\n",
    "    atnum1 = int(linecache.getline(file1, num1-1)[4:11])\n",
    "    resnum1 = int(linecache.getline(file1, num1-1)[22:26])\n",
    "    for j in range(1, num2+1):\n",
    "        line = linecache.getline(file2, j)\n",
    "        if line.startswith('ATOM'):\n",
    "            start = line[0:4]\n",
    "            at = int(line[4:11])\n",
    "            mid = line[11:22]\n",
    "            res = int(line[22:26])\n",
    "            end = line[26:-1]\n",
    "            n_at = atnum1+j\n",
    "            n_res = res + resnum1 - 1\n",
    "            ss = '{}{:>7d}{}{:>4d}{}{}'.format(start, n_at, mid, n_res, end, '\\n')\n",
    "            out.writelines(ss)\n",
    "        else:\n",
    "            print(ss)\n",
    "                   \n",
    "combine_DNA('dna30A_t_re.pdb', 'dna30A.pdb', 'combined_dna1.pdb')"
   ]
  },
  {
   "cell_type": "code",
   "execution_count": 28,
   "metadata": {},
   "outputs": [],
   "source": [
    "def combine_protein(file1, file2, outfl):\n",
    "    num1 = sum(1 for _ in open(file1))\n",
    "    num2 = sum(1 for _ in open(file2))\n",
    "    out = open(outfl, 'w')\n",
    "    for i in range(1, num1+1):\n",
    "        line = linecache.getline(file1, i)\n",
    "        out.writelines(line)\n",
    "    atnum1 = int(linecache.getline(file1, num1)[4:11])\n",
    "    for j in range(1, num2+1):\n",
    "        line = linecache.getline(file2, j)\n",
    "        if line.startswith(('ATOM')):\n",
    "            start = line[0:4]\n",
    "            at = int(line[4:11])\n",
    "            mid = line[11:20]\n",
    "            chain = line[20:22]\n",
    "            end = line[22:-1]\n",
    "            n_at = atnum1+j\n",
    "            if chain==' A':\n",
    "                n_ch = ' D'\n",
    "            if chain==' B':\n",
    "                n_ch = ' E'\n",
    "            if chain==' C':\n",
    "                n_ch = ' F'\n",
    "            ss = '{}{:>7d}{}{:>2s}{}{}'.format(start, n_at, mid, n_ch, end, '\\n')\n",
    "            out.writelines(ss)\n",
    "        if line.startswith(('TER')):\n",
    "            start = line[0:4]\n",
    "            at = int(line[4:11])\n",
    "            mid = line[11:20]\n",
    "            chain = line[20:22]\n",
    "            end = line[22:-1]\n",
    "            n_at = atnum1+j\n",
    "            if chain==' A':\n",
    "                n_ch = ' D'\n",
    "            if chain==' B':\n",
    "                n_ch = ' E'\n",
    "            if chain==' C':\n",
    "                n_ch = ' F'\n",
    "            ss = '{}{:>7d}{}{:>2s}{}{}'.format(start, n_at, mid, n_ch, end, '\\n')\n",
    "            out.writelines(ss)\n",
    "combine_protein('repA1.pdb', 'repA2.pdb', 'two_RPA.pdb') "
   ]
  },
  {
   "cell_type": "code",
   "execution_count": 32,
   "metadata": {},
   "outputs": [],
   "source": [
    "def combine_protein_DNA(file1, file2, outfl):\n",
    "    num1 = sum(1 for _ in open(file1))\n",
    "    num2 = sum(1 for _ in open(file2))\n",
    "    out = open(outfl, 'w')\n",
    "    for i in range(1, num1+1):\n",
    "        line = linecache.getline(file1, i)\n",
    "        out.writelines(line)\n",
    "    atnum1 = int(linecache.getline(file1, num1)[4:11])\n",
    "\n",
    "    for j in range(1, num2+1):\n",
    "        line = linecache.getline(file2, j)\n",
    "        if line.startswith(('ATOM')):\n",
    "            start = line[0:4]\n",
    "            at = int(line[4:11])\n",
    "            mid = line[11:20]\n",
    "            chain = line[20:22]\n",
    "            end = line[22:-1]\n",
    "            n_at = atnum1+j\n",
    "            if chain==' D':\n",
    "                n_ch = ' G'\n",
    "            ss = '{}{:>7d}{}{:>2s}{}{}'.format(start, n_at, mid, n_ch, end, '\\n')\n",
    "            out.writelines(ss)\n",
    "        else:\n",
    "            out.writelines(line)\n",
    "combine_protein_DNA('two_RPA.pdb', 'combined_dna1.pdb', 'RPA_DNA1.pdb') "
   ]
  },
  {
   "cell_type": "code",
   "execution_count": 7,
   "metadata": {},
   "outputs": [
    {
     "name": "stdout",
     "output_type": "stream",
     "text": [
      "    -108.998      -19.127\n"
     ]
    }
   ],
   "source": [
    "num1 = sum(1 for _ in open('RPA_DNA.pdb'))\n",
    "import linecache\n",
    "import math\n",
    "import numpy as np\n",
    "x_l = []\n",
    "y_l = []\n",
    "z_l = []\n",
    "for j in range(1, num1+1):\n",
    "    line = linecache.getline('RPA_DNA.pdb', j)\n",
    "    if line.startswith(('ATOM')):\n",
    "        x = line[26:38]\n",
    "        y = line[38:46]\n",
    "        z = line[46:54]\n",
    "        x_l.append(x)\n",
    "        y_l.append(y)\n",
    "        z_l.append(z)\n",
    "print(max(x_l), min(x_l))        "
   ]
  },
  {
   "cell_type": "code",
   "execution_count": 8,
   "metadata": {},
   "outputs": [],
   "source": [
    "def translate_PDB(filename, tr_x, tr_y, tr_z, outfile):\n",
    "    inp = open(filename, 'r')\n",
    "    out = open(outfile, 'w')\n",
    "    for line in inp:\n",
    "        if line.startswith('ATOM'):\n",
    "            init = line[0:26]\n",
    "            x = float(line[26:38])\n",
    "            y = float(line[38:46])\n",
    "            z = float(line[46:54])\n",
    "            end = line[54:-1]\n",
    "            n_x = x + tr_x\n",
    "            n_y = y + tr_y\n",
    "            n_z = z + tr_z\n",
    "            ss = '{}{:>12.3f}{:>8.3f}{:>8.3f}{}{}'.format(init, n_x, n_y, n_z, end, \"\\n\")\n",
    "            out.writelines(ss)\n",
    "        else:\n",
    "            out.writelines(line)\n",
    "            \n",
    "translate_PDB('RPA_DNA.pdb', 64.0, -96.0, -122.0, 'RPA_DNA_TR.pdb')"
   ]
  },
  {
   "cell_type": "code",
   "execution_count": 11,
   "metadata": {},
   "outputs": [
    {
     "name": "stdout",
     "output_type": "stream",
     "text": [
      " -43.663    0.007\n"
     ]
    }
   ],
   "source": [
    "num1 = sum(1 for _ in open('RPA_DNA_TR.pdb'))\n",
    "import linecache\n",
    "import math\n",
    "import numpy as np\n",
    "x_l = []\n",
    "y_l = []\n",
    "z_l = []\n",
    "for j in range(1, num1+1):\n",
    "    line = linecache.getline('RPA_DNA_TR.pdb', j)\n",
    "    if line.startswith(('ATOM')):\n",
    "        x = line[26:38]\n",
    "        y = line[38:46]\n",
    "        z = line[46:54]\n",
    "        x_l.append(x)\n",
    "        y_l.append(y)\n",
    "        z_l.append(z)\n",
    "print(max(z_l), min(z_l))  "
   ]
  }
 ],
 "metadata": {
  "kernelspec": {
   "display_name": "Python 3",
   "language": "python",
   "name": "python3"
  },
  "language_info": {
   "codemirror_mode": {
    "name": "ipython",
    "version": 3
   },
   "file_extension": ".py",
   "mimetype": "text/x-python",
   "name": "python",
   "nbconvert_exporter": "python",
   "pygments_lexer": "ipython3",
   "version": "3.9.14 (main, Nov  7 2022, 00:00:00) \n[GCC 11.3.1 20220421 (Red Hat 11.3.1-2)]"
  },
  "orig_nbformat": 4,
  "vscode": {
   "interpreter": {
    "hash": "e7370f93d1d0cde622a1f8e1c04877d8463912d04d973331ad4851f04de6915a"
   }
  }
 },
 "nbformat": 4,
 "nbformat_minor": 2
}
